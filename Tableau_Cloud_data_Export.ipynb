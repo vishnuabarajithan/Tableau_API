{
 "cells": [
  {
   "cell_type": "code",
   "execution_count": null,
   "id": "11e97154-c4dd-46b7-b98b-e308e5f30c53",
   "metadata": {},
   "outputs": [],
   "source": [
    "from tableau_api_lib import TableauServerConnection"
   ]
  },
  {
   "cell_type": "code",
   "execution_count": null,
   "id": "6e57dee9-43af-442b-b7dc-4caf4e99090e",
   "metadata": {},
   "outputs": [],
   "source": [
    "from tableau_api_lib.utils import querying, flatten_dict_column"
   ]
  },
  {
   "cell_type": "code",
   "execution_count": null,
   "id": "b27695ec-a828-42e5-aba7-ee3f959335eb",
   "metadata": {},
   "outputs": [],
   "source": [
    "import pandas as pd"
   ]
  },
  {
   "cell_type": "code",
   "execution_count": null,
   "id": "ddac75b8-a6aa-4002-ab47-05081e3adf81",
   "metadata": {},
   "outputs": [],
   "source": [
    "config= {\n",
    "    'tableau_online':{\n",
    "        'server':\"https://prod-useast-a.online.tableau.com/\",\n",
    "        'api_version':'3.21',\n",
    "        'personal_access_token_name': 'test',\n",
    "        'personal_access_token_secret': 'PERSONAL ACCESS TOKEN',\n",
    "        'site_name':'SITE_NAME',\n",
    "        'site_url':\"SITE_URL\"\n",
    "        }\n",
    "}"
   ]
  },
  {
   "cell_type": "code",
   "execution_count": null,
   "id": "32bb12eb-a86c-4927-b9f1-e0f6dbfacfe4",
   "metadata": {},
   "outputs": [],
   "source": [
    "conn= TableauServerConnection(config,env='tableau_online')"
   ]
  },
  {
   "cell_type": "code",
   "execution_count": null,
   "id": "2d38b1e6-98a9-4202-b3f3-66cd4970d5a1",
   "metadata": {},
   "outputs": [],
   "source": [
    "conn.sign_in()"
   ]
  },
  {
   "cell_type": "code",
   "execution_count": null,
   "id": "adc4f0c3-42da-472c-8e8c-728e42f71fe5",
   "metadata": {},
   "outputs": [],
   "source": [
    "views_df=querying.get_views_dataframe(conn)"
   ]
  },
  {
   "cell_type": "code",
   "execution_count": null,
   "id": "37196a56-c542-4c0f-9d98-28626796b4db",
   "metadata": {},
   "outputs": [],
   "source": [
    "#views_df.head(2)"
   ]
  },
  {
   "cell_type": "code",
   "execution_count": null,
   "id": "5aa1aaa5-7099-4526-841d-19299a9e1d72",
   "metadata": {},
   "outputs": [],
   "source": [
    "views_df=flatten_dict_column(views_df,keys=[\"name\",\"id\"],col_name='workbook')"
   ]
  },
  {
   "cell_type": "code",
   "execution_count": null,
   "id": "d8d53ace-03c7-4f7a-9016-81f74d972735",
   "metadata": {},
   "outputs": [],
   "source": [
    "#views_df.head(2)"
   ]
  },
  {
   "cell_type": "code",
   "execution_count": null,
   "id": "4730f7ee-cf31-4892-b350-ab610a5e21f5",
   "metadata": {},
   "outputs": [],
   "source": [
    "df=views_df[views_df[\"workbook_name\"]=='WORKBOOK_NAME']"
   ]
  },
  {
   "cell_type": "code",
   "execution_count": null,
   "id": "4743a612-5ec4-4c22-848c-6bd50c5e800d",
   "metadata": {},
   "outputs": [],
   "source": [
    "df"
   ]
  },
  {
   "cell_type": "code",
   "execution_count": null,
   "id": "12bee99e-b39e-4b26-850d-1fa04e7a7880",
   "metadata": {},
   "outputs": [],
   "source": [
    "view_id='VIEW_ID'"
   ]
  },
  {
   "cell_type": "code",
   "execution_count": null,
   "id": "bba64c4d-d403-4a83-8924-9c071fda257c",
   "metadata": {},
   "outputs": [],
   "source": [
    "data_df=querying.get_view_data_dataframe(conn,view_id=view_id)"
   ]
  },
  {
   "cell_type": "code",
   "execution_count": null,
   "id": "9f940d75-134c-4c2c-a09e-e92d5e025548",
   "metadata": {},
   "outputs": [],
   "source": [
    "data_df"
   ]
  },
  {
   "cell_type": "code",
   "execution_count": null,
   "id": "82fa82e7-591e-4dbb-8a21-8fbcf366c36e",
   "metadata": {},
   "outputs": [],
   "source": [
    "data_df.shape"
   ]
  },
  {
   "cell_type": "code",
   "execution_count": null,
   "id": "ab35940a-55b9-4833-a011-5bf8f20c7f4f",
   "metadata": {},
   "outputs": [],
   "source": [
    "export= data_df.to_csv('/PATH/file_name.csv', index=False)"
   ]
  },
  {
   "cell_type": "code",
   "execution_count": null,
   "id": "15c813e8-1da8-4998-b702-49845e1d0bda",
   "metadata": {},
   "outputs": [],
   "source": [
    "conn.sign_out()"
   ]
  },
  {
   "cell_type": "code",
   "execution_count": null,
   "id": "c6868336-de37-439e-85b8-bf484f803ec0",
   "metadata": {},
   "outputs": [],
   "source": []
  }
 ],
 "metadata": {
  "kernelspec": {
   "display_name": "Python 3 (ipykernel)",
   "language": "python",
   "name": "python3"
  },
  "language_info": {
   "codemirror_mode": {
    "name": "ipython",
    "version": 3
   },
   "file_extension": ".py",
   "mimetype": "text/x-python",
   "name": "python",
   "nbconvert_exporter": "python",
   "pygments_lexer": "ipython3",
   "version": "3.12.1"
  }
 },
 "nbformat": 4,
 "nbformat_minor": 5
}
